{
 "cells": [
  {
   "cell_type": "code",
   "execution_count": 126,
   "metadata": {},
   "outputs": [],
   "source": [
    "import matplotlib.pyplot as plt\n",
    "import cv2\n",
    "import os\n",
    "import numpy as np\n",
    "from sklearn.cluster import KMeans\n",
    "from sklearn import svm\n",
    "from sklearn.model_selection import train_test_split\n",
    "import pickle\n",
    "from sklearn.preprocessing import StandardScaler\n",
    "from sklearn import svm\n",
    "from sklearn import linear_model\n",
    "from sklearn.metrics import accuracy_score\n",
    "from modAL.models import ActiveLearner\n",
    "from modAL.uncertainty import uncertainty_sampling\n",
    "from sklearn.ensemble import RandomForestClassifier\n"
   ]
  },
  {
   "cell_type": "code",
   "execution_count": 127,
   "metadata": {},
   "outputs": [],
   "source": [
    "data_path = './data'\n",
    "no_clusters = 100\n",
    "splitProp = 0.8"
   ]
  },
  {
   "cell_type": "code",
   "execution_count": 128,
   "metadata": {},
   "outputs": [],
   "source": [
    "def loadDataset(): #Function to parse through the directory and append the required images and their labels\n",
    "    imgs = []\n",
    "    labels = []\n",
    "    label = -1\n",
    "    \n",
    "    directories = [f for f in os.listdir(data_path) if os.path.isdir(os.path.join(data_path, f))]\n",
    "    \n",
    "    for directory in directories:\n",
    "        label = label + 1\n",
    "        path = data_path+'/'+directory\n",
    "        files = [f for f in os.listdir(path) if os.path.isfile(os.path.join(path, f))]\n",
    "        \n",
    "        for file in files:\n",
    "            imgPath = path+'/'+file\n",
    "            imgs.append(imgPath)\n",
    "            labels.append(label)\n",
    "    \n",
    "    return (imgs,labels)\n"
   ]
  },
  {
   "cell_type": "code",
   "execution_count": 129,
   "metadata": {},
   "outputs": [],
   "source": [
    "dataset = loadDataset()"
   ]
  },
  {
   "cell_type": "code",
   "execution_count": 130,
   "metadata": {},
   "outputs": [],
   "source": [
    "trainImgPaths,testImgPaths, trainLabels, testLabels = train_test_split(dataset[0], dataset[1], \n",
    "                                                train_size=splitProp, random_state=42,shuffle = True,stratify = dataset[1])"
   ]
  },
  {
   "cell_type": "code",
   "execution_count": 131,
   "metadata": {},
   "outputs": [
    {
     "data": {
      "text/plain": [
       "<matplotlib.image.AxesImage at 0x7fae4d0aaa40>"
      ]
     },
     "execution_count": 131,
     "metadata": {},
     "output_type": "execute_result"
    },
    {
     "data": {
      "image/png": "[encoded data removed]",
      "text/plain": [
       "<Figure size 640x480 with 1 Axes>"
      ]
     },
     "metadata": {},
     "output_type": "display_data"
    }
   ],
   "source": [
    "testImage = plt.imread(trainImgPaths[0])\n",
    "plt.imshow(testImage)"
   ]
  },
  {
   "cell_type": "code",
   "execution_count": 132,
   "metadata": {},
   "outputs": [],
   "source": [
    "def getImages(imgsPath):\n",
    "    imgs = []\n",
    "    for imgName in imgsPath:\n",
    "        img = cv2.imread(imgName)\n",
    "        imgs.append(img)\n",
    "    imgs = np.asarray(imgs,dtype=object)\n",
    "    return imgs"
   ]
  },
  {
   "cell_type": "code",
   "execution_count": 133,
   "metadata": {},
   "outputs": [],
   "source": [
    "trainImgs = getImages(trainImgPaths)"
   ]
  },
  {
   "cell_type": "code",
   "execution_count": 134,
   "metadata": {},
   "outputs": [],
   "source": [
    "\n",
    "def getDescriptors(sift, img): #Function to detect the key points and their descriptors\n",
    "    kp, des = sift.detectAndCompute(img, None)\n",
    "    return des\n",
    "\n"
   ]
  },
  {
   "cell_type": "code",
   "execution_count": 135,
   "metadata": {},
   "outputs": [],
   "source": [
    "def extract(imgs): #Extracting all the descriptors of images\n",
    "    desc_list = []\n",
    "    count = 0\n",
    "    index = 0\n",
    "    index_list = []\n",
    "    sift = cv2.SIFT_create()\n",
    "    for img in imgs:\n",
    "        desc = getDescriptors(sift,img)\n",
    "        if(desc is not None):\n",
    "            count = count+1\n",
    "            desc_list.append(desc)\n",
    "        else:\n",
    "            index_list.append(index)\n",
    "        index = index+1\n",
    "\n",
    "\n",
    "    return desc_list,count,index_list\n"
   ]
  },
  {
   "cell_type": "code",
   "execution_count": 136,
   "metadata": {},
   "outputs": [],
   "source": [
    "def deleteIndex(trainImgs,trainLabels,index_list): #Deleting those labels and points which dont have descriptors\n",
    "    trainLabels=np.delete(trainLabels,index_list)\n",
    "    trainImgs=np.delete(trainImgs, index_list)\n",
    "    return trainImgs, trainLabels"
   ]
  },
  {
   "cell_type": "code",
   "execution_count": 137,
   "metadata": {},
   "outputs": [],
   "source": [
    "def vstackDescriptors(descriptor_list): #Reorganizing the descriptor list\n",
    "    descriptors = np.array(descriptor_list[0])\n",
    "    for descriptor in descriptor_list[1:]:\n",
    "        descriptors = np.vstack((descriptors, descriptor)) \n",
    "\n",
    "    return descriptors\n",
    "\n"
   ]
  },
  {
   "cell_type": "code",
   "execution_count": 138,
   "metadata": {},
   "outputs": [],
   "source": [
    "def clusterDescriptors(descriptors, no_clusters): #Applying kmeans on the descriptors\n",
    "    kmeans = KMeans(n_clusters = no_clusters).fit(descriptors)\n",
    "    return kmeans\n",
    "\n"
   ]
  },
  {
   "cell_type": "code",
   "execution_count": 139,
   "metadata": {},
   "outputs": [],
   "source": [
    "def extractFeatures(kmeans, descriptor_list, image_count, no_clusters): #Creating histograms which will later be used by the ML model as features\n",
    "    im_features = np.array([np.zeros(no_clusters) for i in range(image_count)])\n",
    "    for i in range(image_count):\n",
    "        for j in range(len(descriptor_list[i])):\n",
    "            feature = descriptor_list[i][j]\n",
    "            feature = feature.reshape(1, 128)\n",
    "            idx = kmeans.predict(feature)\n",
    "            im_features[i][idx] += 1\n",
    "\n",
    "    return im_features\n",
    "\n"
   ]
  },
  {
   "cell_type": "code",
   "execution_count": 140,
   "metadata": {},
   "outputs": [],
   "source": [
    "def normalizeFeatures(scale, features): #Normalizing the features\n",
    "    return scale.transform(features)"
   ]
  },
  {
   "cell_type": "code",
   "execution_count": 141,
   "metadata": {},
   "outputs": [],
   "source": [
    "dataset = loadDataset()\n",
    "trainImgPaths,testImgPaths, trainLabels, testLabels = train_test_split(dataset[0], dataset[1], \n",
    "                                                train_size=0.8, random_state=42,shuffle = True,stratify = dataset[1])"
   ]
  },
  {
   "cell_type": "code",
   "execution_count": 142,
   "metadata": {},
   "outputs": [],
   "source": [
    "trainImgs = getImages(trainImgPaths)\n"
   ]
  },
  {
   "cell_type": "code",
   "execution_count": 143,
   "metadata": {},
   "outputs": [],
   "source": [
    "trainImgs = np.array(trainImgs).astype('uint8')\n",
    "# "
   ]
  },
  {
   "cell_type": "code",
   "execution_count": 144,
   "metadata": {},
   "outputs": [],
   "source": [
    "desc_list,train_count,train_index_list=extract(trainImgs)\n"
   ]
  },
  {
   "cell_type": "code",
   "execution_count": 145,
   "metadata": {},
   "outputs": [],
   "source": [
    "trainImgs,trainLabels = deleteIndex(trainImgs, trainLabels,train_index_list)"
   ]
  },
  {
   "cell_type": "code",
   "execution_count": 146,
   "metadata": {},
   "outputs": [],
   "source": [
    "descriptors = vstackDescriptors(desc_list)"
   ]
  },
  {
   "cell_type": "code",
   "execution_count": 147,
   "metadata": {},
   "outputs": [],
   "source": [
    "kmeans = clusterDescriptors(descriptors, no_clusters=no_clusters)\n"
   ]
  },
  {
   "cell_type": "code",
   "execution_count": 148,
   "metadata": {},
   "outputs": [],
   "source": [
    "im_features= extractFeatures(kmeans, desc_list, train_count, no_clusters=no_clusters)\n"
   ]
  },
  {
   "cell_type": "code",
   "execution_count": 149,
   "metadata": {},
   "outputs": [],
   "source": [
    "scale = StandardScaler().fit(im_features)    \n",
    "im_features = scale.transform(im_features)"
   ]
  },
  {
   "cell_type": "code",
   "execution_count": 150,
   "metadata": {},
   "outputs": [],
   "source": [
    "LRG = linear_model.LogisticRegression().fit(im_features, trainLabels)\n"
   ]
  },
  {
   "cell_type": "code",
   "execution_count": 153,
   "metadata": {},
   "outputs": [],
   "source": [
    "def test(testImgPaths,kmeans,LRG,scale,testLabels):\n",
    "    testImgs = getImages(testImgPaths)\n",
    "    testImgs = np.array(testImgs).astype('uint8')\n",
    "    desc_list,count,index_list=extract(testImgs)\n",
    "    test_imgs,testLabels = deleteIndex(testImgs, testLabels,index_list)\n",
    "    descriptors = vstackDescriptors(desc_list)\n",
    "    test_features = extractFeatures(kmeans, desc_list, count, no_clusters=no_clusters)\n",
    "    test_features = scale.transform(test_features)\n",
    "    pred=LRG.predict(test_features)\n",
    "    return pred,testLabels,index_list,test_features"
   ]
  },
  {
   "cell_type": "code",
   "execution_count": 154,
   "metadata": {},
   "outputs": [],
   "source": [
    "pred,testLabels,test_index_list,test_features = test(testImgPaths,kmeans,LRG,scale,testLabels)"
   ]
  },
  {
   "cell_type": "code",
   "execution_count": 155,
   "metadata": {},
   "outputs": [
    {
     "data": {
      "text/plain": [
       "0.639344262295082"
      ]
     },
     "execution_count": 155,
     "metadata": {},
     "output_type": "execute_result"
    }
   ],
   "source": [
    "accuracy_score(pred, testLabels)"
   ]
  },
  {
   "cell_type": "code",
   "execution_count": 173,
   "metadata": {},
   "outputs": [],
   "source": [
    "learner = ActiveLearner(estimator=RandomForestClassifier(),query_strategy=uncertainty_sampling,X_training=im_features, y_training=trainLabels)"
   ]
  },
  {
   "cell_type": "code",
   "execution_count": 181,
   "metadata": {},
   "outputs": [],
   "source": [
    "initial_sample_idx = np.random.choice(range(len(im_features)), size=int(0.2*len(im_features)), replace=False)\n",
    "learner.teach(im_features[initial_sample_idx], trainLabels[initial_sample_idx])\n",
    "scores = []\n",
    "# Iterate through active learning cycles until a stopping criterion is met\n",
    "for i in range(50):\n",
    "    # print(i)\n",
    "    # Query the most informative samples from the unlabeled set\n",
    "    query_idx, query_inst = learner.query(im_features, n_instances=10)\n",
    "    \n",
    "    # Label the queried samples and add them to the training set\n",
    "    y_new = [np.random.randint(2) for _ in range(10)]\n",
    "    learner.teach(im_features[query_idx], y_new)\n",
    "    \n",
    "    # Evaluate the model on the test set\n",
    "    score = learner.score(test_features, testLabels)\n",
    "    # print(f\"Test set score after {i+1} active learning cycles: {score}\")\n",
    "    scores.append(score)"
   ]
  },
  {
   "cell_type": "code",
   "execution_count": 182,
   "metadata": {},
   "outputs": [
    {
     "data": {
      "text/plain": [
       "[<matplotlib.lines.Line2D at 0x7fade5f5c400>]"
      ]
     },
     "execution_count": 182,
     "metadata": {},
     "output_type": "execute_result"
    },
    {
     "data": {
      "image/png": "[encoded data removed]",
      "text/plain": [
       "<Figure size 640x480 with 1 Axes>"
      ]
     },
     "metadata": {},
     "output_type": "display_data"
    }
   ],
   "source": [
    "ks=(np.arange(1, 51, 1))\n",
    "ks\n",
    "plt.plot(ks, scores)\n"
   ]
  },
  {
   "cell_type": "code",
   "execution_count": 183,
   "metadata": {},
   "outputs": [
    {
     "data": {
      "text/plain": [
       "0.6265938069216758"
      ]
     },
     "execution_count": 183,
     "metadata": {},
     "output_type": "execute_result"
    }
   ],
   "source": [
    "scores[-1]"
   ]
  },
  {
   "cell_type": "code",
   "execution_count": null,
   "metadata": {},
   "outputs": [],
   "source": []
  }
 ],
 "metadata": {
  "kernelspec": {
   "display_name": "Python 3.10.6 64-bit",
   "language": "python",
   "name": "python3"
  },
  "language_info": {
   "codemirror_mode": {
    "name": "ipython",
    "version": 3
   },
   "file_extension": ".py",
   "mimetype": "text/x-python",
   "name": "python",
   "nbconvert_exporter": "python",
   "pygments_lexer": "ipython3",
   "version": "3.10.6"
  },
  "orig_nbformat": 4,
  "vscode": {
   "interpreter": {
    "hash": "e7370f93d1d0cde622a1f8e1c04877d8463912d04d973331ad4851f04de6915a"
   }
  }
 },
 "nbformat": 4,
 "nbformat_minor": 2
}
